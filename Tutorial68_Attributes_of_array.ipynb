{
  "nbformat": 4,
  "nbformat_minor": 0,
  "metadata": {
    "colab": {
      "name": "Tutorial68_Attributes-of-array.ipynb",
      "provenance": [],
      "authorship_tag": "ABX9TyOcgESI4CS9TybmuGYBwdnK",
      "include_colab_link": true
    },
    "kernelspec": {
      "name": "python3",
      "display_name": "Python 3"
    }
  },
  "cells": [
    {
      "cell_type": "markdown",
      "metadata": {
        "id": "view-in-github",
        "colab_type": "text"
      },
      "source": [
        "<a href=\"https://colab.research.google.com/github/Shambhavi-Gupta/Tutorial68_Attributes-of-array/blob/main/Tutorial68_Attributes_of_array.ipynb\" target=\"_parent\"><img src=\"https://colab.research.google.com/assets/colab-badge.svg\" alt=\"Open In Colab\"/></a>"
      ]
    },
    {
      "cell_type": "code",
      "metadata": {
        "id": "QLQmCsUNQjm8"
      },
      "source": [
        "import numpy as np\r\n",
        "#Dimension\r\n",
        "# a = np.array([1,2,3,4,5])\r\n",
        "# print(a.ndim)\r\n",
        "# a = np.array([[1,2],[4,5]])\r\n",
        "# print(a.ndim)\r\n",
        "# print(a)\r\n",
        "#shape\r\n",
        "a = np.array([[1,2],[4,5]])\r\n",
        "print(a.shape)\r\n",
        "#Data Type\r\n",
        "#print(a.dtype)\r\n",
        "#Itemsize\r\n",
        "print(a.itemsize)"
      ],
      "execution_count": null,
      "outputs": []
    }
  ]
}